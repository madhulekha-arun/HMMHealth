{
 "cells": [
  {
   "cell_type": "code",
   "execution_count": 1,
   "metadata": {
    "collapsed": true
   },
   "outputs": [],
   "source": [
    "def training(trainX,trainZ,k,startprob_org,transmat_org,means_org,covars_org):\n",
    "    print \"fitting these numbers to HMM\"\n",
    "    model_p = GaussianHMM(n_components=k, covariance_type=\"diag\", n_iter=1000).fit(trainX)\n",
    "    #evaluating training\n",
    "    hidden_states = model_p.predict(trainX)\n",
    "    transmat=model_p.transmat_\n",
    "    means=model_p.means_\n",
    "    covars=model_p.covars_\n",
    "    startprob=model_p.startprob_\n",
    "\n",
    "    l = list(permutations(range(0, k)))\n",
    "    min_means=1000\n",
    "    min_covars=0\n",
    "\n",
    "    for p in l:\n",
    "\n",
    "        var_means=means\n",
    "        var_means[:,:]=var_means[p,:]\n",
    "        print \"means \",norm(var_means-means_org,2)\n",
    "        if(min_means>norm(var_means-means_org,2)):\n",
    "            min_means=norm(var_means-means_org,2)\n",
    "            print \"min means changed\",min_means\n",
    "            perm_m=p\n",
    "\n",
    "    var_start=startprob.reshape(k,1)\n",
    "    var_start[:,:]=var_start[perm_m,:]\n",
    "    min_start=norm(var_start-startprob_org.reshape(k,1),1)\n",
    "\n",
    "    var_trans=transmat\n",
    "    var_trans[:,:]=var_trans[perm_m,:]\n",
    "    var_trans[:,:]=var_trans[:,perm_m]\n",
    "    min_transmat=norm(var_trans-transmat_org,1)\n",
    "\n",
    "    var_covars=covars\n",
    "    var_covars[:,:,:]=var_covars[p,:,:]\n",
    "    for i in range(k):\n",
    "        min_covars=min_covars+norm(var_covars[i]-covars_org[i],2)\n",
    "    min_covars=min_covars/k\n",
    "\n",
    "    var_trainZ=trainZ\n",
    "    for i in range(trainZ.shape[0]):\n",
    "        var_trainZ[i]=perm_m[trainZ[i]]\n",
    "    acctrain=norm(hidden_states-var_trainZ,1)\n",
    "\n",
    "    return min_start,min_transmat,min_means,min_covars,acctrain,model_p,perm_m\n"
   ]
  },
  {
   "cell_type": "code",
   "execution_count": 5,
   "metadata": {
    "collapsed": false
   },
   "outputs": [
    {
     "name": "stdout",
     "output_type": "stream",
     "text": [
      "fitting these numbers to HMM\n",
      "means  16.5334265987\n",
      "min means changed 16.5334265987\n",
      "means  19.0940949228\n",
      "means  16.7521557774\n",
      "means  16.5334265987\n",
      "means  16.7521557774\n",
      "means  20.7597203408\n",
      "means  20.3582650505\n",
      "means  23.2140019066\n",
      "means  19.9079944228\n",
      "means  12.9348660942\n",
      "min means changed 12.9348660942\n",
      "means  23.2140019066\n",
      "means  16.5391661667\n",
      "means  20.0118796423\n",
      "means  15.4887474173\n",
      "means  16.7521557774\n",
      "means  22.0228776225\n",
      "means  20.3582650505\n",
      "means  15.4887474173\n",
      "means  16.5391661667\n",
      "means  23.2140019066\n",
      "means  20.0052114569\n",
      "means  23.0429203448\n",
      "means  16.6759316006\n",
      "means  19.9079944228\n"
     ]
    },
    {
     "name": "stderr",
     "output_type": "stream",
     "text": [
      "/Users/Madhu/Downloads/softwares/anaconda3/envs/python2/lib/python2.7/site-packages/ipykernel/__main__.py:32: VisibleDeprecationWarning: using a non-integer number instead of an integer will result in an error in the future\n",
      "/Users/Madhu/Downloads/softwares/anaconda3/envs/python2/lib/python2.7/site-packages/ipykernel/__main__.py:33: VisibleDeprecationWarning: using a non-integer number instead of an integer will result in an error in the future\n",
      "/Users/Madhu/Downloads/softwares/anaconda3/envs/python2/lib/python2.7/site-packages/ipykernel/__main__.py:34: VisibleDeprecationWarning: using a non-integer number instead of an integer will result in an error in the future\n",
      "/Users/Madhu/Downloads/softwares/anaconda3/envs/python2/lib/python2.7/site-packages/ipykernel/__main__.py:35: VisibleDeprecationWarning: using a non-integer number instead of an integer will result in an error in the future\n"
     ]
    }
   ],
   "source": [
    "import numpy as np\n",
    "from hmmlearn.hmm import GaussianHMM\n",
    "from itertools import permutations\n",
    "from scipy.linalg import norm\n",
    "from hmmlearn import hmm\n",
    "import math\n",
    "from datetime import datetime\n",
    "k=4\n",
    "n=500\n",
    "l=2\n",
    "trainX, trainZ,startprob_org,transmat_org,means_org,covars_org,testX, testZ=createSample(n,l,k)\n",
    "min_start, min_transmat, min_means, min_covars, acctrain, model_p, perm_m = training(trainX, trainZ, k,\n",
    "                                                                                         startprob_org, transmat_org,\n",
    "                                                                                         means_org, covars_org)"
   ]
  },
  {
   "cell_type": "code",
   "execution_count": 3,
   "metadata": {
    "collapsed": true
   },
   "outputs": [],
   "source": [
    "def createSample(n,l,k):\n",
    "    startprob_org = np.array([0.6, 0.3, 0.1, 0.0])\n",
    "    # The transition matrix, note that there are no transitions possible\n",
    "    # between component 1 and 3\n",
    "    transmat_org = np.array([[0.7, 0.2, 0.0, 0.1],\n",
    "                         [0.3, 0.5, 0.2, 0.0],\n",
    "                         [0.0, 0.3, 0.5, 0.2],\n",
    "                         [0.2, 0.0, 0.2, 0.6]])\n",
    "    # The means of each component\n",
    "    means_org = np.array([[0.0,  0.0],\n",
    "                      [0.0, 11.0],\n",
    "                      [9.0, 10.0],\n",
    "                      [11.0, -1.0]])\n",
    "    # The covariance of each component\n",
    "    covars_org = .5 * np.tile(np.identity(2), (4, 1, 1))\n",
    "\n",
    "    # Build an HMM instance and set parameters\n",
    "    model = hmm.GaussianHMM(n_components=4, covariance_type=\"full\")\n",
    "    model.startprob_ = startprob_org\n",
    "    model.transmat_ = transmat_org\n",
    "    model.means_ = means_org\n",
    "    model.covars_ = covars_org\n",
    "\n",
    "    # Generate samples\n",
    "    X, Z = model.sample(500)\n",
    "\n",
    "    # compute how much of the data is training and testing\n",
    "    train_rows = math.floor(0.6 * X.shape[0])\n",
    "    test_rows = X.shape[0] - train_rows\n",
    "\n",
    "    # separate out training and testing data\n",
    "    trainX = X[:train_rows]\n",
    "    trainZ = Z[:train_rows]\n",
    "    testX = X[train_rows:]\n",
    "    testZ = Z[train_rows:]\n",
    "    return trainX,trainZ,startprob_org,transmat_org,means_org,covars_org,testX,testZ"
   ]
  },
  {
   "cell_type": "code",
   "execution_count": 6,
   "metadata": {
    "collapsed": false
   },
   "outputs": [
    {
     "name": "stdout",
     "output_type": "stream",
     "text": [
      "GaussianHMM(algorithm='viterbi', covariance_type='diag', covars_prior=0.01,\n",
      "      covars_weight=1, init_params='stmc', means_prior=0, means_weight=0,\n",
      "      min_covar=0.001, n_components=4, n_iter=1000, params='stmc',\n",
      "      random_state=None, startprob_prior=1.0, tol=0.01, transmat_prior=1.0,\n",
      "      verbose=False)\n"
     ]
    }
   ],
   "source": [
    "print model_p"
   ]
  },
  {
   "cell_type": "markdown",
   "metadata": {},
   "source": [
    "print model_p.type"
   ]
  },
  {
   "cell_type": "code",
   "execution_count": 8,
   "metadata": {
    "collapsed": false
   },
   "outputs": [
    {
     "name": "stdout",
     "output_type": "stream",
     "text": [
      "<class 'hmmlearn.hmm.GaussianHMM'>\n"
     ]
    }
   ],
   "source": [
    "print type(model_p)"
   ]
  },
  {
   "cell_type": "code",
   "execution_count": 9,
   "metadata": {
    "collapsed": true
   },
   "outputs": [],
   "source": [
    "def testing(testX, testZ, k, model_p,perm_m):\n",
    "    print \"fitting these numbers to HMM\"\n",
    "    #model_p = GaussianHMM(n_components=k, covariance_type=\"diag\", n_iter=1000).fit(trainX)\n",
    "    # evaluating training\n",
    "    predZ = model_p.predict(testX)\n",
    "    var_testZ=testZ\n",
    "    for i in range(testZ.shape[0]):\n",
    "        var_testZ[i]=perm_m[testZ[i]]\n",
    "    acctest=norm(predZ-var_testZ,1)\n",
    "\n",
    "    return acctest\n"
   ]
  },
  {
   "cell_type": "code",
   "execution_count": null,
   "metadata": {
    "collapsed": true
   },
   "outputs": [],
   "source": []
  }
 ],
 "metadata": {
  "anaconda-cloud": {},
  "kernelspec": {
   "display_name": "Python [python2]",
   "language": "python",
   "name": "Python [python2]"
  },
  "language_info": {
   "codemirror_mode": {
    "name": "ipython",
    "version": 2
   },
   "file_extension": ".py",
   "mimetype": "text/x-python",
   "name": "python",
   "nbconvert_exporter": "python",
   "pygments_lexer": "ipython2",
   "version": "2.7.12"
  }
 },
 "nbformat": 4,
 "nbformat_minor": 0
}
