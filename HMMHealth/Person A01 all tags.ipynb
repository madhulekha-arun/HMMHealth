{
 "cells": [
  {
   "cell_type": "markdown",
   "metadata": {},
   "source": [
    "## Modelling for Person A session 1 using all tags"
   ]
  },
  {
   "cell_type": "code",
   "execution_count": null,
   "metadata": {
    "collapsed": true
   },
   "outputs": [],
   "source": [
    "import numpy as np\n",
    "from hmmlearn.hmm import GaussianHMM\n",
    "from itertools import permutations\n",
    "from scipy.linalg import norm\n",
    "from hmmlearn import hmm\n",
    "import math\n",
    "from datetime import datetime\n",
    "from numpy import genfromtxt\n",
    "from sklearn import preprocessing\n",
    "import hmm_rand_observations_analysis as smp\n",
    "\n",
    "input_raw = genfromtxt('/Users/Madhu/Documents/HMMHealth_new/A01.txt', delimiter=',',dtype='str')\n",
    "input = input_raw[:,(2,4,5,6,7)]\n",
    "walk=np.where(input[:,4]=='walking')[0]\n",
    "sit=np.where(input[:,4]=='sitting')[0]\n",
    "lay=np.where(input[:,4]=='lying')[0]\n",
    "attr=walk.tolist()\n",
    "attr.extend(sit.tolist())\n",
    "attr.extend(lay.tolist())\n",
    "input=input[attr]\n",
    "encoding = preprocessing.LabelEncoder()  \n",
    "input[:, 4] = encoding.fit_transform(input[:, 4])\n",
    "mapping=[]\n",
    "for i in sorted(set(input[:,4].astype(float))):\n",
    "    mapping.append((int(i),encoding.inverse_transform(int(i))),)\n",
    "input = sorted(input, key = lambda a_entry: a_entry[0]) \n",
    "input = np.array(input)\n",
    "input = input[:,(1,2,3,4)]\n",
    "input = input.astype(float)\n",
    "train_rows = int(math.floor(0.7* input.shape[0]))\n",
    "test_rows = input.shape[0] - train_rows    \n",
    "# separate out training and testing data\n",
    "trainX = input[:train_rows,:-1]\n",
    "trainZ = input[:train_rows,-1]\n",
    "trainZ = trainZ.astype(int)\n",
    "testX = input[train_rows:,:-1]\n",
    "testZ = input[train_rows:,-1]\n",
    "testZ = testZ.astype(int)"
   ]
  },
  {
   "cell_type": "code",
   "execution_count": 4,
   "metadata": {
    "collapsed": true
   },
   "outputs": [],
   "source": [
    "model_p = GaussianHMM(3,'diag').fit(trainX)\n",
    "hidden_states = model_p.predict(trainX)\n",
    "l = list(permutations(range(0,3)))"
   ]
  },
  {
   "cell_type": "code",
   "execution_count": 5,
   "metadata": {
    "collapsed": false
   },
   "outputs": [],
   "source": [
    "acctrain = -1\n",
    "cur_acc = 0\n",
    "for p in l:\n",
    "    var_trainZ = trainZ\n",
    "    for i in range(trainZ.shape[0]):\n",
    "        var_trainZ[i] = p[trainZ[i]]\n",
    "    cur_acc = np.mean( hidden_states == var_trainZ )\n",
    "    if(cur_acc > acctrain):\n",
    "        acctrain = cur_acc\n",
    "        perm_m = p"
   ]
  },
  {
   "cell_type": "code",
   "execution_count": 7,
   "metadata": {
    "collapsed": true
   },
   "outputs": [],
   "source": [
    "predZ = model_p.predict(testX)\n",
    "var_testZ = testZ\n",
    "for i in range(testZ.shape[0]):\n",
    "    var_testZ[i] = perm_m[testZ[i]]\n",
    "acctest = np.mean(predZ == var_testZ)"
   ]
  },
  {
   "cell_type": "markdown",
   "metadata": {},
   "source": [
    "## Accuracy"
   ]
  },
  {
   "cell_type": "code",
   "execution_count": 8,
   "metadata": {
    "collapsed": false
   },
   "outputs": [
    {
     "name": "stdout",
     "output_type": "stream",
     "text": [
      "0.614682121531 0.157248157248\n"
     ]
    }
   ],
   "source": [
    "print acctrain,acctest"
   ]
  },
  {
   "cell_type": "code",
   "execution_count": null,
   "metadata": {
    "collapsed": true
   },
   "outputs": [],
   "source": []
  }
 ],
 "metadata": {
  "kernelspec": {
   "display_name": "Python 2",
   "language": "python",
   "name": "python2"
  },
  "language_info": {
   "codemirror_mode": {
    "name": "ipython",
    "version": 2
   },
   "file_extension": ".py",
   "mimetype": "text/x-python",
   "name": "python",
   "nbconvert_exporter": "python",
   "pygments_lexer": "ipython2",
   "version": "2.7.12"
  }
 },
 "nbformat": 4,
 "nbformat_minor": 0
}
