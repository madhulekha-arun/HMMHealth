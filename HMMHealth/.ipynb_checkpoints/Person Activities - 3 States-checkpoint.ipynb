{
 "cells": [
  {
   "cell_type": "markdown",
   "metadata": {
    "collapsed": false
   },
   "source": [
    "## Using HHM for predicting postures"
   ]
  },
  {
   "cell_type": "code",
   "execution_count": 46,
   "metadata": {
    "collapsed": false
   },
   "outputs": [],
   "source": [
    "import numpy as np\n",
    "from hmmlearn.hmm import GaussianHMM\n",
    "from itertools import permutations\n",
    "from scipy.linalg import norm\n",
    "from hmmlearn import hmm\n",
    "import math\n",
    "from datetime import datetime\n",
    "from numpy import genfromtxt\n",
    "from sklearn import preprocessing\n",
    "import hmm_rand_observations_analysis as smp\n",
    "\n",
    "input_raw = genfromtxt('/Users/Madhu/Documents/HMMHealth_new/A01.txt', delimiter=',',dtype='str')\n",
    "input = input_raw[np.where(input_raw[:,1]=='020-000-033-111')]\n",
    "input = input[:,(2,4,5,6,7)]\n",
    "walk=np.where(input[:,4]=='walking')[0]\n",
    "sit=np.where(input[:,4]=='sitting')[0]\n",
    "lay=np.where(input[:,4]=='lying')[0]\n",
    "attr=walk.tolist()\n",
    "attr.extend(sit.tolist())\n",
    "attr.extend(lay.tolist())\n",
    "input=input[attr]\n"
   ]
  },
  {
   "cell_type": "markdown",
   "metadata": {},
   "source": [
    "## Encoding the postures to numerical values"
   ]
  },
  {
   "cell_type": "code",
   "execution_count": 47,
   "metadata": {
    "collapsed": false
   },
   "outputs": [
    {
     "data": {
      "text/plain": [
       "[(0, 'lying'), (1, 'sitting'), (2, 'walking')]"
      ]
     },
     "execution_count": 47,
     "metadata": {},
     "output_type": "execute_result"
    }
   ],
   "source": [
    "encoding = preprocessing.LabelEncoder()  \n",
    "input[:, 4] = encoding.fit_transform(input[:, 4])\n",
    "mapping=[]\n",
    "for i in sorted(set(input[:,4].astype(float))):\n",
    "    mapping.append((int(i),encoding.inverse_transform(int(i))),)\n",
    "input = sorted(input, key = lambda a_entry: a_entry[0]) \n",
    "input = np.array(input)\n",
    "input = input[:,(1,2,3,4)]\n",
    "input = input.astype(float)\n",
    "mapping"
   ]
  },
  {
   "cell_type": "markdown",
   "metadata": {},
   "source": [
    "## Splitting data into training and testing"
   ]
  },
  {
   "cell_type": "code",
   "execution_count": 48,
   "metadata": {
    "collapsed": false
   },
   "outputs": [
    {
     "name": "stdout",
     "output_type": "stream",
     "text": [
      "Total     (1145, 4)\n",
      "Training  (801, 3)  Label  (801,)\n",
      "Testing   (344, 3)   Label  (344,) \n",
      "\n",
      "[[ 4.29195356  1.78114045  1.3444953   2.        ]\n",
      " [ 4.36407709  1.76769149  1.29999638  2.        ]\n",
      " [ 4.24491358  1.98168194  1.30875885  2.        ]]\n"
     ]
    }
   ],
   "source": [
    "train_rows = int(math.floor(0.7* input.shape[0]))\n",
    "test_rows = input.shape[0] - train_rows\n",
    "    \n",
    "# separate out training and testing data\n",
    "trainX = input[:train_rows,:-1]\n",
    "trainZ = input[:train_rows,-1]\n",
    "trainZ=trainZ.astype(int)\n",
    "testX = input[train_rows:,:-1]\n",
    "testZ = input[train_rows:,-1]\n",
    "testZ=testZ.astype(int)\n",
    "\n",
    "print \"Total    \",input.shape\n",
    "print \"Training \",trainX.shape,\" Label \",trainZ.shape\n",
    "print \"Testing  \",testX.shape,\"  Label \",testZ.shape,\"\\n\"\n",
    "print input[:3,:]"
   ]
  },
  {
   "cell_type": "markdown",
   "metadata": {},
   "source": [
    "## Gaussian distribution over the 11 latent variables "
   ]
  },
  {
   "cell_type": "code",
   "execution_count": 49,
   "metadata": {
    "collapsed": false
   },
   "outputs": [],
   "source": [
    "model_p = GaussianHMM(3,'diag').fit(trainX)\n",
    "hidden_states = model_p.predict(trainX)\n",
    "l = list(permutations(range(0,3)))\n",
    "acctrain_chest=-1\n",
    "cur_acc=0"
   ]
  },
  {
   "cell_type": "markdown",
   "metadata": {},
   "source": [
    "## Transition probability from the 11 states "
   ]
  },
  {
   "cell_type": "code",
   "execution_count": 50,
   "metadata": {
    "collapsed": false
   },
   "outputs": [
    {
     "name": "stdout",
     "output_type": "stream",
     "text": [
      "[[  9.78102229e-01   1.01740559e-49   2.18977706e-02]\n",
      " [  2.35856246e-25   9.92480300e-01   7.51970044e-03]\n",
      " [  7.55668511e-03   5.03840068e-03   9.87404914e-01]]\n"
     ]
    }
   ],
   "source": [
    "print model_p.transmat_"
   ]
  },
  {
   "cell_type": "markdown",
   "metadata": {},
   "source": [
    "## Mean of observations for each Gaussian curve"
   ]
  },
  {
   "cell_type": "code",
   "execution_count": 51,
   "metadata": {
    "collapsed": false
   },
   "outputs": [
    {
     "name": "stdout",
     "output_type": "stream",
     "text": [
      "[[ 0.96527779  2.41230658  0.46999486]\n",
      " [ 4.64163492  1.27083409  0.19847146]\n",
      " [ 2.96600368  1.88208687  1.05933009]]\n"
     ]
    }
   ],
   "source": [
    "print model_p.means_"
   ]
  },
  {
   "cell_type": "markdown",
   "metadata": {},
   "source": [
    "## Covariance of observations for each Gaussian curve "
   ]
  },
  {
   "cell_type": "code",
   "execution_count": 52,
   "metadata": {
    "collapsed": false
   },
   "outputs": [
    {
     "name": "stdout",
     "output_type": "stream",
     "text": [
      "[[[ 0.03143183  0.          0.        ]\n",
      "  [ 0.          0.04350469  0.        ]\n",
      "  [ 0.          0.          0.14288004]]\n",
      "\n",
      " [[ 0.05956445  0.          0.        ]\n",
      "  [ 0.          0.07085106  0.        ]\n",
      "  [ 0.          0.          0.09663173]]\n",
      "\n",
      " [[ 0.23924751  0.          0.        ]\n",
      "  [ 0.          0.27811604  0.        ]\n",
      "  [ 0.          0.          0.01985863]]]\n"
     ]
    }
   ],
   "source": [
    "print model_p.covars_"
   ]
  },
  {
   "cell_type": "markdown",
   "metadata": {},
   "source": [
    "## Starting probability"
   ]
  },
  {
   "cell_type": "code",
   "execution_count": 53,
   "metadata": {
    "collapsed": false
   },
   "outputs": [
    {
     "name": "stdout",
     "output_type": "stream",
     "text": [
      "[  1.98879417e-250   1.48118262e-017   1.00000000e+000]\n"
     ]
    }
   ],
   "source": [
    "print model_p.startprob_"
   ]
  },
  {
   "cell_type": "markdown",
   "metadata": {},
   "source": [
    "## Training Accuracy"
   ]
  },
  {
   "cell_type": "code",
   "execution_count": 54,
   "metadata": {
    "collapsed": false
   },
   "outputs": [
    {
     "name": "stdout",
     "output_type": "stream",
     "text": [
      "0.624219725343\n"
     ]
    }
   ],
   "source": [
    "for p in l:\n",
    "    var_trainZ=trainZ\n",
    "    for i in range(trainZ.shape[0]):\n",
    "        var_trainZ[i]=p[trainZ[i]]\n",
    "    cur_acc=np.mean( hidden_states == var_trainZ )\n",
    "    if(cur_acc>acctrain_chest):\n",
    "        acctrain_chest=cur_acc\n",
    "        perm_m=p\n",
    "print acctrain_chest"
   ]
  },
  {
   "cell_type": "markdown",
   "metadata": {},
   "source": [
    "## Testing Accuracy"
   ]
  },
  {
   "cell_type": "code",
   "execution_count": 55,
   "metadata": {
    "collapsed": false
   },
   "outputs": [
    {
     "name": "stdout",
     "output_type": "stream",
     "text": [
      "0.209302325581\n"
     ]
    }
   ],
   "source": [
    "predZ = model_p.predict(testX)\n",
    "var_testZ=testZ\n",
    "for i in range(testZ.shape[0]):\n",
    "    var_testZ[i]=perm_m[testZ[i]]\n",
    "acctest_chest = np.mean(predZ == var_testZ)\n",
    "print acctest_chest"
   ]
  },
  {
   "cell_type": "markdown",
   "metadata": {},
   "source": [
    "## Modelling for Left Ankle 010-000-024-033"
   ]
  },
  {
   "cell_type": "code",
   "execution_count": 38,
   "metadata": {
    "collapsed": false
   },
   "outputs": [],
   "source": [
    "input = input_raw[np.where(input_raw[:,1]=='010-000-024-033')]\n",
    "input = input[:,(2,4,5,6,7)]\n",
    "walk=np.where(input[:,4]=='walking')[0]\n",
    "sit=np.where(input[:,4]=='sitting')[0]\n",
    "lay=np.where(input[:,4]=='lying')[0]\n",
    "attr=walk.tolist()\n",
    "attr.extend(sit.tolist())\n",
    "attr.extend(lay.tolist())\n",
    "input=input[attr]\n",
    "encoding = preprocessing.LabelEncoder()  \n",
    "input[:, 4] = encoding.fit_transform(input[:, 4])\n",
    "mapping=[]\n",
    "for i in sorted(set(input[:,4].astype(float))):\n",
    "    mapping.append((int(i),encoding.inverse_transform(int(i))),)\n",
    "input = sorted(input, key = lambda a_entry: a_entry[0]) \n",
    "input = np.array(input)\n",
    "input = input[:,(1,2,3,4)]\n",
    "input = input.astype(float)\n",
    "train_rows = int(math.floor(0.7* input.shape[0]))\n",
    "test_rows = input.shape[0] - train_rows    \n",
    "# separate out training and testing data\n",
    "trainX = input[:train_rows,:-1]\n",
    "trainZ = input[:train_rows,-1]\n",
    "trainZ = trainZ.astype(int)\n",
    "testX = input[train_rows:,:-1]\n",
    "testZ = input[train_rows:,-1]\n",
    "testZ = testZ.astype(int)\n",
    "model_p = GaussianHMM(3,'diag').fit(trainX)\n",
    "hidden_states = model_p.predict(trainX)\n",
    "l = list(permutations(range(0,3)))\n",
    "acctrain_left_ankle = -1\n",
    "cur_acc = 0\n",
    "for p in l:\n",
    "    var_trainZ=trainZ\n",
    "    for i in range(trainZ.shape[0]):\n",
    "        var_trainZ[i] = p[trainZ[i]]\n",
    "    cur_acc=np.mean( hidden_states == var_trainZ )\n",
    "    if(cur_acc > acctrain_left_ankle):\n",
    "        acctrain_left_ankle = cur_acc\n",
    "        perm_m = p\n",
    "predZ = model_p.predict(testX)\n",
    "var_testZ = testZ\n",
    "for i in range(testZ.shape[0]):\n",
    "    var_testZ[i] = perm_m[testZ[i]]\n",
    "acctest_left_ankle = np.mean(predZ == var_testZ)"
   ]
  },
  {
   "cell_type": "markdown",
   "metadata": {},
   "source": [
    "## Modelling for right ankle 010-000-030-096"
   ]
  },
  {
   "cell_type": "code",
   "execution_count": 39,
   "metadata": {
    "collapsed": true
   },
   "outputs": [],
   "source": [
    "input = input_raw[np.where(input_raw[:,1]=='010-000-030-096')]\n",
    "input = input[:,(2,4,5,6,7)]\n",
    "walk = np.where(input[:,4]=='walking')[0]\n",
    "sit = np.where(input[:,4]=='sitting')[0]\n",
    "lay = np.where(input[:,4]=='lying')[0]\n",
    "attr = walk.tolist()\n",
    "attr.extend(sit.tolist())\n",
    "attr.extend(lay.tolist())\n",
    "input = input[attr]\n",
    "encoding = preprocessing.LabelEncoder()  \n",
    "input[:, 4] = encoding.fit_transform(input[:, 4])\n",
    "mapping=[]\n",
    "for i in sorted(set(input[:,4].astype(float))):\n",
    "    mapping.append((int(i),encoding.inverse_transform(int(i))),)\n",
    "input = sorted(input, key = lambda a_entry: a_entry[0]) \n",
    "input = np.array(input)\n",
    "input = input[:,(1,2,3,4)]\n",
    "input = input.astype(float)\n",
    "train_rows = int(math.floor(0.7* input.shape[0]))\n",
    "test_rows = input.shape[0] - train_rows    \n",
    "# separate out training and testing data\n",
    "trainX = input[:train_rows,:-1]\n",
    "trainZ = input[:train_rows,-1]\n",
    "trainZ=trainZ.astype(int)\n",
    "testX = input[train_rows:,:-1]\n",
    "testZ = input[train_rows:,-1]\n",
    "testZ=testZ.astype(int)\n",
    "model_p = GaussianHMM(3,'diag').fit(trainX)\n",
    "hidden_states = model_p.predict(trainX)\n",
    "l = list(permutations(range(0,3)))\n",
    "acctrain_right_ankle=-1\n",
    "cur_acc=0\n",
    "for p in l:\n",
    "    var_trainZ=trainZ\n",
    "    for i in range(trainZ.shape[0]):\n",
    "        var_trainZ[i]=p[trainZ[i]]\n",
    "    cur_acc=np.mean( hidden_states == var_trainZ )\n",
    "    if(cur_acc > acctrain_right_ankle):\n",
    "        acctrain_right_ankle = cur_acc\n",
    "        perm_m=p\n",
    "predZ = model_p.predict(testX)\n",
    "var_testZ = testZ\n",
    "for i in range(testZ.shape[0]):\n",
    "    var_testZ[i]=perm_m[testZ[i]]\n",
    "acctest_right_ankle = np.mean(predZ == var_testZ)"
   ]
  },
  {
   "cell_type": "markdown",
   "metadata": {},
   "source": [
    "## Modelling for Belt 020-000-032-221"
   ]
  },
  {
   "cell_type": "code",
   "execution_count": 40,
   "metadata": {
    "collapsed": true
   },
   "outputs": [],
   "source": [
    "input = input_raw[np.where(input_raw[:,1]=='010-000-024-033')]\n",
    "input = input[:,(2,4,5,6,7)]\n",
    "walk=np.where(input[:,4]=='walking')[0]\n",
    "sit=np.where(input[:,4]=='sitting')[0]\n",
    "lay=np.where(input[:,4]=='lying')[0]\n",
    "attr=walk.tolist()\n",
    "attr.extend(sit.tolist())\n",
    "attr.extend(lay.tolist())\n",
    "input=input[attr]\n",
    "encoding = preprocessing.LabelEncoder()  \n",
    "input[:, 4] = encoding.fit_transform(input[:, 4])\n",
    "mapping=[]\n",
    "for i in sorted(set(input[:,4].astype(float))):\n",
    "    mapping.append((int(i),encoding.inverse_transform(int(i))),)\n",
    "input = sorted(input, key = lambda a_entry: a_entry[0]) \n",
    "input = np.array(input)\n",
    "input = input[:,(1,2,3,4)]\n",
    "input = input.astype(float)\n",
    "train_rows = int(math.floor(0.7* input.shape[0]))\n",
    "test_rows = input.shape[0] - train_rows    \n",
    "# separate out training and testing data\n",
    "trainX = input[:train_rows,:-1]\n",
    "trainZ = input[:train_rows,-1]\n",
    "trainZ = trainZ.astype(int)\n",
    "testX = input[train_rows:,:-1]\n",
    "testZ = input[train_rows:,-1]\n",
    "testZ = testZ.astype(int)\n",
    "model_p = GaussianHMM(3,'diag').fit(trainX)\n",
    "hidden_states = model_p.predict(trainX)\n",
    "l = list(permutations(range(0,3)))\n",
    "acctrain_belt = -1\n",
    "cur_acc = 0\n",
    "for p in l:\n",
    "    var_trainZ=trainZ\n",
    "    for i in range(trainZ.shape[0]):\n",
    "        var_trainZ[i] = p[trainZ[i]]\n",
    "    cur_acc=np.mean( hidden_states == var_trainZ )\n",
    "    if(cur_acc > acctrain_belt):\n",
    "        acctrain_belt = cur_acc\n",
    "        perm_m = p\n",
    "predZ = model_p.predict(testX)\n",
    "var_testZ = testZ\n",
    "for i in range(testZ.shape[0]):\n",
    "    var_testZ[i] = perm_m[testZ[i]]\n",
    "acctest_belt = np.mean(predZ == var_testZ)"
   ]
  },
  {
   "cell_type": "markdown",
   "metadata": {},
   "source": [
    "## Modelling for all tags"
   ]
  },
  {
   "cell_type": "code",
   "execution_count": 41,
   "metadata": {
    "collapsed": true
   },
   "outputs": [],
   "source": [
    "input = input_raw[:,(2,4,5,6,7)]\n",
    "walk=np.where(input[:,4]=='walking')[0]\n",
    "sit=np.where(input[:,4]=='sitting')[0]\n",
    "lay=np.where(input[:,4]=='lying')[0]\n",
    "attr=walk.tolist()\n",
    "attr.extend(sit.tolist())\n",
    "attr.extend(lay.tolist())\n",
    "input=input[attr]\n",
    "encoding = preprocessing.LabelEncoder()  \n",
    "input[:, 4] = encoding.fit_transform(input[:, 4])\n",
    "mapping=[]\n",
    "for i in sorted(set(input[:,4].astype(float))):\n",
    "    mapping.append((int(i),encoding.inverse_transform(int(i))),)\n",
    "input = sorted(input, key = lambda a_entry: a_entry[0]) \n",
    "input = np.array(input)\n",
    "input = input[:,(1,2,3,4)]\n",
    "input = input.astype(float)\n",
    "train_rows = int(math.floor(0.7* input.shape[0]))\n",
    "test_rows = input.shape[0] - train_rows    \n",
    "# separate out training and testing data\n",
    "trainX = input[:train_rows,:-1]\n",
    "trainZ = input[:train_rows,-1]\n",
    "trainZ = trainZ.astype(int)\n",
    "testX = input[train_rows:,:-1]\n",
    "testZ = input[train_rows:,-1]\n",
    "testZ = testZ.astype(int)"
   ]
  },
  {
   "cell_type": "code",
   "execution_count": 42,
   "metadata": {
    "collapsed": false
   },
   "outputs": [
    {
     "data": {
      "image/png": "[encoded data removed]",
      "text/plain": [
       "<matplotlib.figure.Figure at 0x112e1f450>"
      ]
     },
     "metadata": {},
     "output_type": "display_data"
    }
   ],
   "source": [
    "import matplotlib.pyplot as plt; plt.rcdefaults()\n",
    "import numpy as np\n",
    "import matplotlib.pyplot as plt\n",
    "%matplotlib inline\n",
    "objects = ('Overall','Chest', 'Left Ankle', 'Right Ankle', 'Belt')\n",
    "y_pos = np.arange(len(objects))\n",
    "performance = [acctrain, acctrain_chest, acctrain_left_ankle, acctrain_right_ankle, acctrain_belt]\n",
    " \n",
    "plt.bar(y_pos, performance, align='center', alpha=0.5)\n",
    "plt.xticks(y_pos, objects)\n",
    "plt.ylabel('Training Accuracy')\n",
    "plt.title('Training Accuracy for each tag for Person A Seesion 1')\n",
    " \n",
    "plt.show()"
   ]
  },
  {
   "cell_type": "code",
   "execution_count": 56,
   "metadata": {
    "collapsed": false
   },
   "outputs": [
    {
     "data": {
      "image/png": "[encoded data removed]",
      "text/plain": [
       "<matplotlib.figure.Figure at 0x1127798d0>"
      ]
     },
     "metadata": {},
     "output_type": "display_data"
    }
   ],
   "source": [
    "objects = ('Overall','Chest', 'Left Ankle', 'Right Ankle', 'Belt')\n",
    "y_pos = np.arange(len(objects))\n",
    "performance = [acctest, acctest_chest, acctest_left_ankle, acctest_right_ankle, acctest_belt]\n",
    " \n",
    "plt.bar(y_pos, performance, align='center', alpha=0.5)\n",
    "plt.xticks(y_pos, objects)\n",
    "plt.ylabel('Testing Accuracy')\n",
    "plt.title('Testing Accuracy for each tag for Person A Seesion 1')\n",
    " \n",
    "plt.show()"
   ]
  },
  {
   "cell_type": "code",
   "execution_count": null,
   "metadata": {
    "collapsed": true
   },
   "outputs": [],
   "source": []
  }
 ],
 "metadata": {
  "anaconda-cloud": {},
  "kernelspec": {
   "display_name": "Python [python2]",
   "language": "python",
   "name": "Python [python2]"
  }
 },
 "nbformat": 4,
 "nbformat_minor": 0
}
